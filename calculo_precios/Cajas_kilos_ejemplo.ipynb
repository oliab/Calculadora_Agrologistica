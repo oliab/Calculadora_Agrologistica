{
 "cells": [
  {
   "cell_type": "code",
   "execution_count": 121,
   "metadata": {},
   "outputs": [],
   "source": [
    "from bs4 import BeautifulSoup\n",
    "        #BeautifulSoup: paquetería de Python que permite leer la estructura HTML para poder ser escrapeada por Python\n",
    "import urllib3\n",
    "import pandas as pd\n",
    "import re"
   ]
  },
  {
   "cell_type": "code",
   "execution_count": 139,
   "metadata": {},
   "outputs": [
    {
     "name": "stdout",
     "output_type": "stream",
     "text": [
      "http://www.economia-sniim.gob.mx/2010prueba/PreciosHoy.asp?Cons=D&prodC=9002&dest=160&Formato=Xls&submit=Ver+Resultados\n"
     ]
    }
   ],
   "source": [
    "url_to_scrape='http://www.economia-sniim.gob.mx/2010prueba/PreciosHoy.asp?Cons=D&prodC=9002&dest=160&Formato=Xls&submit=Ver+Resultados'\n",
    "        #Dirección url de la página que realizará la consulta\n",
    "print(url_to_scrape)"
   ]
  },
  {
   "cell_type": "code",
   "execution_count": 140,
   "metadata": {},
   "outputs": [
    {
     "name": "stderr",
     "output_type": "stream",
     "text": [
      "/Users/usuario/anaconda/lib/python3.6/site-packages/bs4/__init__.py:181: UserWarning: No parser was explicitly specified, so I'm using the best available HTML parser for this system (\"lxml\"). This usually isn't a problem, but if you run this code on another system, or in a different virtual environment, it may use a different parser and behave differently.\n",
      "\n",
      "The code that caused this warning is on line 193 of the file /Users/usuario/anaconda/lib/python3.6/runpy.py. To get rid of this warning, change code that looks like this:\n",
      "\n",
      " BeautifulSoup(YOUR_MARKUP})\n",
      "\n",
      "to this:\n",
      "\n",
      " BeautifulSoup(YOUR_MARKUP, \"lxml\")\n",
      "\n",
      "  markup_type=markup_type))\n"
     ]
    }
   ],
   "source": [
    "http = urllib3.PoolManager()\n",
    "\n",
    "response = http.request('GET', url_to_scrape)\n",
    "\n",
    "soup = BeautifulSoup(response.data)\n",
    "table=soup.findAll(\"table\")\n",
    "error=-5"
   ]
  },
  {
   "cell_type": "code",
   "execution_count": 141,
   "metadata": {},
   "outputs": [],
   "source": [
    "for i in range(1,len(table)):\n",
    "        try:\n",
    "            if table[i]['id'] =='error':\n",
    "                error=i\n",
    "        except Exception as e:\n",
    "            pass\n",
    "                #print table[i]['id']\n",
    "  "
   ]
  },
  {
   "cell_type": "code",
   "execution_count": 142,
   "metadata": {},
   "outputs": [],
   "source": [
    "if error!=-5:\n",
    "    if table[error].findAll('td')[0].text==u'\\nNo encontr\\xf3 informaci\\xf3n para los datos indicados\\n':\n",
    "        print (u'\\nNo encontr\\xf3 informaci\\xf3n para los datos indicados\\n')\n",
    "else:\n",
    "    for i in range(1,len(table)):\n",
    "        try:\n",
    "            if table[i]['id'] =='Datos':\n",
    "                indice=i\n",
    "        except Exception as e:\n",
    "            pass"
   ]
  },
  {
   "cell_type": "code",
   "execution_count": 159,
   "metadata": {},
   "outputs": [
    {
     "data": {
      "text/html": [
       "<div>\n",
       "<style>\n",
       "    .dataframe thead tr:only-child th {\n",
       "        text-align: right;\n",
       "    }\n",
       "\n",
       "    .dataframe thead th {\n",
       "        text-align: left;\n",
       "    }\n",
       "\n",
       "    .dataframe tbody tr th {\n",
       "        vertical-align: top;\n",
       "    }\n",
       "</style>\n",
       "<table border=\"1\" class=\"dataframe\">\n",
       "  <thead>\n",
       "    <tr style=\"text-align: right;\">\n",
       "      <th></th>\n",
       "      <th>origen</th>\n",
       "      <th>presentacion</th>\n",
       "      <th>pmin</th>\n",
       "      <th>pmax</th>\n",
       "      <th>pfrec</th>\n",
       "      <th>observaciones</th>\n",
       "      <th>fecha</th>\n",
       "    </tr>\n",
       "  </thead>\n",
       "  <tbody>\n",
       "    <tr>\n",
       "      <th>0</th>\n",
       "      <td>Michoacán</td>\n",
       "      <td>Caja de 19 kg.</td>\n",
       "      <td>845.00</td>\n",
       "      <td>855.00</td>\n",
       "      <td>855.00</td>\n",
       "      <td>NaN</td>\n",
       "      <td>Hoy: Miércoles 25/Jul/2018</td>\n",
       "    </tr>\n",
       "    <tr>\n",
       "      <th>1</th>\n",
       "      <td>NaN</td>\n",
       "      <td>Caja de 19 kg.</td>\n",
       "      <td>845.00</td>\n",
       "      <td>855.00</td>\n",
       "      <td>855.00</td>\n",
       "      <td>Ayer: 24/07/2018 Ver Nota</td>\n",
       "      <td>Hoy: Miércoles 25/Jul/2018</td>\n",
       "    </tr>\n",
       "  </tbody>\n",
       "</table>\n",
       "</div>"
      ],
      "text/plain": [
       "      origen    presentacion    pmin    pmax   pfrec  \\\n",
       "0  Michoacán  Caja de 19 kg.  845.00  855.00  855.00   \n",
       "1        NaN  Caja de 19 kg.  845.00  855.00  855.00   \n",
       "\n",
       "               observaciones                       fecha  \n",
       "0                        NaN  Hoy: Miércoles 25/Jul/2018  \n",
       "1  Ayer: 24/07/2018 Ver Nota  Hoy: Miércoles 25/Jul/2018  "
      ]
     },
     "execution_count": 159,
     "metadata": {},
     "output_type": "execute_result"
    }
   ],
   "source": [
    "df=pd.read_html(str(table[25]))[0]\n",
    "df.columns = ['origen', 'presentacion', 'pmin', 'pmax', 'pfrec', 'observaciones'] \n",
    "df[\"fecha\"] =df[\"origen\"][3]\n",
    "df1 = df.iloc[6:] \n",
    "df1=df1.dropna(thresh=5)\n",
    "df1.reset_index(drop=True, inplace=True)  \n",
    "\n",
    "df1\n",
    "\n",
    "    \n"
   ]
  },
  {
   "cell_type": "code",
   "execution_count": 160,
   "metadata": {},
   "outputs": [
    {
     "data": {
      "text/html": [
       "<div>\n",
       "<style>\n",
       "    .dataframe thead tr:only-child th {\n",
       "        text-align: right;\n",
       "    }\n",
       "\n",
       "    .dataframe thead th {\n",
       "        text-align: left;\n",
       "    }\n",
       "\n",
       "    .dataframe tbody tr th {\n",
       "        vertical-align: top;\n",
       "    }\n",
       "</style>\n",
       "<table border=\"1\" class=\"dataframe\">\n",
       "  <thead>\n",
       "    <tr style=\"text-align: right;\">\n",
       "      <th></th>\n",
       "      <th>origen</th>\n",
       "      <th>presentacion</th>\n",
       "      <th>pmin</th>\n",
       "      <th>pmax</th>\n",
       "      <th>pfrec</th>\n",
       "      <th>observaciones</th>\n",
       "      <th>fecha</th>\n",
       "    </tr>\n",
       "  </thead>\n",
       "  <tbody>\n",
       "    <tr>\n",
       "      <th>0</th>\n",
       "      <td>Michoacán</td>\n",
       "      <td>19</td>\n",
       "      <td>845.00</td>\n",
       "      <td>855.00</td>\n",
       "      <td>855.00</td>\n",
       "      <td>NaN</td>\n",
       "      <td>Hoy: Miércoles 25/Jul/2018</td>\n",
       "    </tr>\n",
       "    <tr>\n",
       "      <th>1</th>\n",
       "      <td>NaN</td>\n",
       "      <td>19</td>\n",
       "      <td>845.00</td>\n",
       "      <td>855.00</td>\n",
       "      <td>855.00</td>\n",
       "      <td>Ayer: 24/07/2018 Ver Nota</td>\n",
       "      <td>Hoy: Miércoles 25/Jul/2018</td>\n",
       "    </tr>\n",
       "  </tbody>\n",
       "</table>\n",
       "</div>"
      ],
      "text/plain": [
       "      origen presentacion    pmin    pmax   pfrec              observaciones  \\\n",
       "0  Michoacán           19  845.00  855.00  855.00                        NaN   \n",
       "1        NaN           19  845.00  855.00  855.00  Ayer: 24/07/2018 Ver Nota   \n",
       "\n",
       "                        fecha  \n",
       "0  Hoy: Miércoles 25/Jul/2018  \n",
       "1  Hoy: Miércoles 25/Jul/2018  "
      ]
     },
     "execution_count": 160,
     "metadata": {},
     "output_type": "execute_result"
    }
   ],
   "source": [
    "for i in range(len(df1)):\n",
    "    if df1[\"presentacion\"][i]== \"Kilogramo\":\n",
    "        df1[\"presentacion\"][i]=1\n",
    "    else:\n",
    "        df1[\"presentacion\"][i]=re.findall(r'\\d+',df1['presentacion'][i])[0]\n",
    "\n",
    "df1"
   ]
  },
  {
   "cell_type": "code",
   "execution_count": 161,
   "metadata": {},
   "outputs": [
    {
     "data": {
      "text/html": [
       "<div>\n",
       "<style>\n",
       "    .dataframe thead tr:only-child th {\n",
       "        text-align: right;\n",
       "    }\n",
       "\n",
       "    .dataframe thead th {\n",
       "        text-align: left;\n",
       "    }\n",
       "\n",
       "    .dataframe tbody tr th {\n",
       "        vertical-align: top;\n",
       "    }\n",
       "</style>\n",
       "<table border=\"1\" class=\"dataframe\">\n",
       "  <thead>\n",
       "    <tr style=\"text-align: right;\">\n",
       "      <th></th>\n",
       "      <th>origen</th>\n",
       "      <th>presentacion</th>\n",
       "      <th>pmin</th>\n",
       "      <th>pmax</th>\n",
       "      <th>pfrec</th>\n",
       "      <th>observaciones</th>\n",
       "      <th>fecha</th>\n",
       "      <th>precio_kilo</th>\n",
       "    </tr>\n",
       "  </thead>\n",
       "  <tbody>\n",
       "    <tr>\n",
       "      <th>0</th>\n",
       "      <td>Michoacán</td>\n",
       "      <td>19</td>\n",
       "      <td>845.00</td>\n",
       "      <td>855.00</td>\n",
       "      <td>855.00</td>\n",
       "      <td>NaN</td>\n",
       "      <td>Hoy: Miércoles 25/Jul/2018</td>\n",
       "      <td>45.0</td>\n",
       "    </tr>\n",
       "    <tr>\n",
       "      <th>1</th>\n",
       "      <td>NaN</td>\n",
       "      <td>19</td>\n",
       "      <td>845.00</td>\n",
       "      <td>855.00</td>\n",
       "      <td>855.00</td>\n",
       "      <td>Ayer: 24/07/2018 Ver Nota</td>\n",
       "      <td>Hoy: Miércoles 25/Jul/2018</td>\n",
       "      <td>45.0</td>\n",
       "    </tr>\n",
       "  </tbody>\n",
       "</table>\n",
       "</div>"
      ],
      "text/plain": [
       "      origen presentacion    pmin    pmax   pfrec              observaciones  \\\n",
       "0  Michoacán           19  845.00  855.00  855.00                        NaN   \n",
       "1        NaN           19  845.00  855.00  855.00  Ayer: 24/07/2018 Ver Nota   \n",
       "\n",
       "                        fecha  precio_kilo  \n",
       "0  Hoy: Miércoles 25/Jul/2018         45.0  \n",
       "1  Hoy: Miércoles 25/Jul/2018         45.0  "
      ]
     },
     "execution_count": 161,
     "metadata": {},
     "output_type": "execute_result"
    }
   ],
   "source": [
    "df1[\"precio_kilo\"]=pd.to_numeric(df1[\"pfrec\"])/pd.to_numeric(df1[\"presentacion\"])\n",
    "df1"
   ]
  },
  {
   "cell_type": "code",
   "execution_count": 162,
   "metadata": {},
   "outputs": [
    {
     "data": {
      "text/plain": [
       "45.0"
      ]
     },
     "execution_count": 162,
     "metadata": {},
     "output_type": "execute_result"
    }
   ],
   "source": [
    "df1[\"precio_kilo\"].mean()"
   ]
  }
 ],
 "metadata": {
  "kernelspec": {
   "display_name": "Python 3",
   "language": "python",
   "name": "python3"
  },
  "language_info": {
   "codemirror_mode": {
    "name": "ipython",
    "version": 3
   },
   "file_extension": ".py",
   "mimetype": "text/x-python",
   "name": "python",
   "nbconvert_exporter": "python",
   "pygments_lexer": "ipython3",
   "version": "3.6.1"
  }
 },
 "nbformat": 4,
 "nbformat_minor": 2
}
