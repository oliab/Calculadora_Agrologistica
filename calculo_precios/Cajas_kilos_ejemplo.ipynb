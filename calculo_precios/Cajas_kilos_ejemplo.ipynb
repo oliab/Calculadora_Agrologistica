{
 "cells": [
  {
   "cell_type": "code",
   "execution_count": 20,
   "metadata": {
    "collapsed": true
   },
   "outputs": [],
   "source": [
    "from bs4 import BeautifulSoup\n",
    "        #BeautifulSoup: paquetería de Python que permite leer la estructura HTML para poder ser escrapeada por Python\n",
    "import urllib3\n",
    "import pandas as pd\n",
    "import re"
   ]
  },
  {
   "cell_type": "code",
   "execution_count": 98,
   "metadata": {},
   "outputs": [
    {
     "name": "stdout",
     "output_type": "stream",
     "text": [
      "http://www.economia-sniim.gob.mx/2010prueba/PreciosHoy.asp?Cons=D&prodC=19605&dest=160&Formato=Xls&submit=Ver+Resultados\n"
     ]
    }
   ],
   "source": [
    "url_to_scrape='http://www.economia-sniim.gob.mx/2010prueba/PreciosHoy.asp?Cons=D&prodC=19605&dest=160&Formato=Xls&submit=Ver+Resultados'\n",
    "        #Dirección url de la página que realizará la consulta\n",
    "print(url_to_scrape)"
   ]
  },
  {
   "cell_type": "code",
   "execution_count": 99,
   "metadata": {},
   "outputs": [],
   "source": [
    "http = urllib3.PoolManager()\n",
    "\n",
    "response = http.request('GET', url_to_scrape)\n",
    "\n",
    "soup = BeautifulSoup(response.data, \"lxml\")\n",
    "table=soup.findAll(\"table\")\n",
    "error=-5"
   ]
  },
  {
   "cell_type": "code",
   "execution_count": 100,
   "metadata": {
    "collapsed": true
   },
   "outputs": [],
   "source": [
    "for i in range(1,len(table)):\n",
    "        try:\n",
    "            if table[i]['id'] =='error':\n",
    "                error=i\n",
    "        except Exception as e:\n",
    "            pass\n",
    "                #print table[i]['id']\n",
    "  "
   ]
  },
  {
   "cell_type": "code",
   "execution_count": 101,
   "metadata": {
    "collapsed": true
   },
   "outputs": [],
   "source": [
    "\n",
    "if error!=-5:\n",
    "    if table[error].findAll('td')[0].text==u'\\nNo encontr\\xf3 informaci\\xf3n para los datos indicados\\n':\n",
    "        print (u'\\nNo encontr\\xf3 informaci\\xf3n para los datos indicados\\n')\n",
    "else:\n",
    "    for i in range(1,len(table)):\n",
    "        try:\n",
    "            if table[i]['id'] =='Datos'and pd.read_html(str(table[i]))[0][0][2]== 'Mercados Nacionales:':\n",
    "                indice=i\n",
    "        except Exception as e:\n",
    "            pass"
   ]
  },
  {
   "cell_type": "code",
   "execution_count": null,
   "metadata": {},
   "outputs": [],
   "source": []
  },
  {
   "cell_type": "code",
   "execution_count": 102,
   "metadata": {},
   "outputs": [
    {
     "data": {
      "text/html": [
       "<div>\n",
       "<style>\n",
       "    .dataframe thead tr:only-child th {\n",
       "        text-align: right;\n",
       "    }\n",
       "\n",
       "    .dataframe thead th {\n",
       "        text-align: left;\n",
       "    }\n",
       "\n",
       "    .dataframe tbody tr th {\n",
       "        vertical-align: top;\n",
       "    }\n",
       "</style>\n",
       "<table border=\"1\" class=\"dataframe\">\n",
       "  <thead>\n",
       "    <tr style=\"text-align: right;\">\n",
       "      <th></th>\n",
       "      <th>origen</th>\n",
       "      <th>presentacion</th>\n",
       "      <th>pmin</th>\n",
       "      <th>pmax</th>\n",
       "      <th>pfrec</th>\n",
       "      <th>observaciones</th>\n",
       "      <th>fecha</th>\n",
       "    </tr>\n",
       "  </thead>\n",
       "  <tbody>\n",
       "    <tr>\n",
       "      <th>0</th>\n",
       "      <td>Michoacán</td>\n",
       "      <td>Kilogramo</td>\n",
       "      <td>4.00</td>\n",
       "      <td>5.00</td>\n",
       "      <td>5.00</td>\n",
       "      <td>NaN</td>\n",
       "      <td>Miércoles 1/Ago/2018</td>\n",
       "    </tr>\n",
       "    <tr>\n",
       "      <th>1</th>\n",
       "      <td>NaN</td>\n",
       "      <td>Kilogramo</td>\n",
       "      <td>4.00</td>\n",
       "      <td>5.00</td>\n",
       "      <td>5.00</td>\n",
       "      <td>Miércoles: 25/07/2018 Ver Nota</td>\n",
       "      <td>Miércoles 1/Ago/2018</td>\n",
       "    </tr>\n",
       "    <tr>\n",
       "      <th>2</th>\n",
       "      <td>Sinaloa</td>\n",
       "      <td>Kilogramo</td>\n",
       "      <td>4.00</td>\n",
       "      <td>5.50</td>\n",
       "      <td>5.50</td>\n",
       "      <td>NaN</td>\n",
       "      <td>Miércoles 1/Ago/2018</td>\n",
       "    </tr>\n",
       "    <tr>\n",
       "      <th>3</th>\n",
       "      <td>NaN</td>\n",
       "      <td>Kilogramo</td>\n",
       "      <td>4.00</td>\n",
       "      <td>5.50</td>\n",
       "      <td>5.50</td>\n",
       "      <td>Miércoles: 25/07/2018 Ver Nota</td>\n",
       "      <td>Miércoles 1/Ago/2018</td>\n",
       "    </tr>\n",
       "  </tbody>\n",
       "</table>\n",
       "</div>"
      ],
      "text/plain": [
       "      origen presentacion  pmin  pmax pfrec                   observaciones  \\\n",
       "0  Michoacán    Kilogramo  4.00  5.00  5.00                             NaN   \n",
       "1        NaN    Kilogramo  4.00  5.00  5.00  Miércoles: 25/07/2018 Ver Nota   \n",
       "2    Sinaloa    Kilogramo  4.00  5.50  5.50                             NaN   \n",
       "3        NaN    Kilogramo  4.00  5.50  5.50  Miércoles: 25/07/2018 Ver Nota   \n",
       "\n",
       "                  fecha  \n",
       "0  Miércoles 1/Ago/2018  \n",
       "1  Miércoles 1/Ago/2018  \n",
       "2  Miércoles 1/Ago/2018  \n",
       "3  Miércoles 1/Ago/2018  "
      ]
     },
     "execution_count": 102,
     "metadata": {},
     "output_type": "execute_result"
    }
   ],
   "source": [
    "df=pd.read_html(str(table[indice]))[0]\n",
    "df.columns = ['origen', 'presentacion', 'pmin', 'pmax', 'pfrec', 'observaciones'] \n",
    "df[\"fecha\"] =df[\"origen\"][3]\n",
    "df1 = df.iloc[6:] \n",
    "df1=df1.dropna(thresh=5)\n",
    "df1.reset_index(drop=True, inplace=True)  \n",
    "\n",
    "df1\n",
    "\n",
    "    \n"
   ]
  },
  {
   "cell_type": "code",
   "execution_count": 103,
   "metadata": {},
   "outputs": [
    {
     "data": {
      "text/html": [
       "<div>\n",
       "<style>\n",
       "    .dataframe thead tr:only-child th {\n",
       "        text-align: right;\n",
       "    }\n",
       "\n",
       "    .dataframe thead th {\n",
       "        text-align: left;\n",
       "    }\n",
       "\n",
       "    .dataframe tbody tr th {\n",
       "        vertical-align: top;\n",
       "    }\n",
       "</style>\n",
       "<table border=\"1\" class=\"dataframe\">\n",
       "  <thead>\n",
       "    <tr style=\"text-align: right;\">\n",
       "      <th></th>\n",
       "      <th>origen</th>\n",
       "      <th>presentacion</th>\n",
       "      <th>pmin</th>\n",
       "      <th>pmax</th>\n",
       "      <th>pfrec</th>\n",
       "      <th>observaciones</th>\n",
       "      <th>fecha</th>\n",
       "    </tr>\n",
       "  </thead>\n",
       "  <tbody>\n",
       "    <tr>\n",
       "      <th>0</th>\n",
       "      <td>Michoacán</td>\n",
       "      <td>1</td>\n",
       "      <td>4.00</td>\n",
       "      <td>5.00</td>\n",
       "      <td>5.00</td>\n",
       "      <td>NaN</td>\n",
       "      <td>Miércoles 1/Ago/2018</td>\n",
       "    </tr>\n",
       "    <tr>\n",
       "      <th>1</th>\n",
       "      <td>NaN</td>\n",
       "      <td>1</td>\n",
       "      <td>4.00</td>\n",
       "      <td>5.00</td>\n",
       "      <td>5.00</td>\n",
       "      <td>Miércoles: 25/07/2018 Ver Nota</td>\n",
       "      <td>Miércoles 1/Ago/2018</td>\n",
       "    </tr>\n",
       "    <tr>\n",
       "      <th>2</th>\n",
       "      <td>Sinaloa</td>\n",
       "      <td>1</td>\n",
       "      <td>4.00</td>\n",
       "      <td>5.50</td>\n",
       "      <td>5.50</td>\n",
       "      <td>NaN</td>\n",
       "      <td>Miércoles 1/Ago/2018</td>\n",
       "    </tr>\n",
       "    <tr>\n",
       "      <th>3</th>\n",
       "      <td>NaN</td>\n",
       "      <td>1</td>\n",
       "      <td>4.00</td>\n",
       "      <td>5.50</td>\n",
       "      <td>5.50</td>\n",
       "      <td>Miércoles: 25/07/2018 Ver Nota</td>\n",
       "      <td>Miércoles 1/Ago/2018</td>\n",
       "    </tr>\n",
       "  </tbody>\n",
       "</table>\n",
       "</div>"
      ],
      "text/plain": [
       "      origen presentacion  pmin  pmax pfrec                   observaciones  \\\n",
       "0  Michoacán            1  4.00  5.00  5.00                             NaN   \n",
       "1        NaN            1  4.00  5.00  5.00  Miércoles: 25/07/2018 Ver Nota   \n",
       "2    Sinaloa            1  4.00  5.50  5.50                             NaN   \n",
       "3        NaN            1  4.00  5.50  5.50  Miércoles: 25/07/2018 Ver Nota   \n",
       "\n",
       "                  fecha  \n",
       "0  Miércoles 1/Ago/2018  \n",
       "1  Miércoles 1/Ago/2018  \n",
       "2  Miércoles 1/Ago/2018  \n",
       "3  Miércoles 1/Ago/2018  "
      ]
     },
     "execution_count": 103,
     "metadata": {},
     "output_type": "execute_result"
    }
   ],
   "source": [
    "for i in range(len(df1)):\n",
    "    if df1[\"presentacion\"][i]== \"Kilogramo\":\n",
    "        df1[\"presentacion\"][i]=1\n",
    "    else:\n",
    "        df1[\"presentacion\"][i]=re.findall(r'\\d+',df1['presentacion'][i])[0]\n",
    "\n",
    "df1"
   ]
  },
  {
   "cell_type": "code",
   "execution_count": 104,
   "metadata": {},
   "outputs": [
    {
     "data": {
      "text/html": [
       "<div>\n",
       "<style>\n",
       "    .dataframe thead tr:only-child th {\n",
       "        text-align: right;\n",
       "    }\n",
       "\n",
       "    .dataframe thead th {\n",
       "        text-align: left;\n",
       "    }\n",
       "\n",
       "    .dataframe tbody tr th {\n",
       "        vertical-align: top;\n",
       "    }\n",
       "</style>\n",
       "<table border=\"1\" class=\"dataframe\">\n",
       "  <thead>\n",
       "    <tr style=\"text-align: right;\">\n",
       "      <th></th>\n",
       "      <th>origen</th>\n",
       "      <th>presentacion</th>\n",
       "      <th>pmin</th>\n",
       "      <th>pmax</th>\n",
       "      <th>pfrec</th>\n",
       "      <th>observaciones</th>\n",
       "      <th>fecha</th>\n",
       "      <th>precio_kilo</th>\n",
       "    </tr>\n",
       "  </thead>\n",
       "  <tbody>\n",
       "    <tr>\n",
       "      <th>0</th>\n",
       "      <td>Michoacán</td>\n",
       "      <td>1</td>\n",
       "      <td>4.00</td>\n",
       "      <td>5.00</td>\n",
       "      <td>5.00</td>\n",
       "      <td>NaN</td>\n",
       "      <td>Miércoles 1/Ago/2018</td>\n",
       "      <td>5.0</td>\n",
       "    </tr>\n",
       "    <tr>\n",
       "      <th>1</th>\n",
       "      <td>NaN</td>\n",
       "      <td>1</td>\n",
       "      <td>4.00</td>\n",
       "      <td>5.00</td>\n",
       "      <td>5.00</td>\n",
       "      <td>Miércoles: 25/07/2018 Ver Nota</td>\n",
       "      <td>Miércoles 1/Ago/2018</td>\n",
       "      <td>5.0</td>\n",
       "    </tr>\n",
       "    <tr>\n",
       "      <th>2</th>\n",
       "      <td>Sinaloa</td>\n",
       "      <td>1</td>\n",
       "      <td>4.00</td>\n",
       "      <td>5.50</td>\n",
       "      <td>5.50</td>\n",
       "      <td>NaN</td>\n",
       "      <td>Miércoles 1/Ago/2018</td>\n",
       "      <td>5.5</td>\n",
       "    </tr>\n",
       "    <tr>\n",
       "      <th>3</th>\n",
       "      <td>NaN</td>\n",
       "      <td>1</td>\n",
       "      <td>4.00</td>\n",
       "      <td>5.50</td>\n",
       "      <td>5.50</td>\n",
       "      <td>Miércoles: 25/07/2018 Ver Nota</td>\n",
       "      <td>Miércoles 1/Ago/2018</td>\n",
       "      <td>5.5</td>\n",
       "    </tr>\n",
       "  </tbody>\n",
       "</table>\n",
       "</div>"
      ],
      "text/plain": [
       "      origen presentacion  pmin  pmax pfrec                   observaciones  \\\n",
       "0  Michoacán            1  4.00  5.00  5.00                             NaN   \n",
       "1        NaN            1  4.00  5.00  5.00  Miércoles: 25/07/2018 Ver Nota   \n",
       "2    Sinaloa            1  4.00  5.50  5.50                             NaN   \n",
       "3        NaN            1  4.00  5.50  5.50  Miércoles: 25/07/2018 Ver Nota   \n",
       "\n",
       "                  fecha  precio_kilo  \n",
       "0  Miércoles 1/Ago/2018          5.0  \n",
       "1  Miércoles 1/Ago/2018          5.0  \n",
       "2  Miércoles 1/Ago/2018          5.5  \n",
       "3  Miércoles 1/Ago/2018          5.5  "
      ]
     },
     "execution_count": 104,
     "metadata": {},
     "output_type": "execute_result"
    }
   ],
   "source": [
    "df1[\"precio_kilo\"]=pd.to_numeric(df1[\"pfrec\"])/pd.to_numeric(df1[\"presentacion\"])\n",
    "df1"
   ]
  },
  {
   "cell_type": "code",
   "execution_count": 105,
   "metadata": {},
   "outputs": [
    {
     "data": {
      "text/plain": [
       "5.25"
      ]
     },
     "execution_count": 105,
     "metadata": {},
     "output_type": "execute_result"
    }
   ],
   "source": [
    "df1[\"precio_kilo\"].mean()"
   ]
  },
  {
   "cell_type": "code",
   "execution_count": null,
   "metadata": {},
   "outputs": [],
   "source": []
  },
  {
   "cell_type": "code",
   "execution_count": 52,
   "metadata": {},
   "outputs": [
    {
     "ename": "SyntaxError",
     "evalue": "invalid syntax (<ipython-input-52-3607d37ed5ca>, line 3)",
     "output_type": "error",
     "traceback": [
      "\u001b[0;36m  File \u001b[0;32m\"<ipython-input-52-3607d37ed5ca>\"\u001b[0;36m, line \u001b[0;32m3\u001b[0m\n\u001b[0;31m    for (j in range(len(prueba))):\u001b[0m\n\u001b[0m                                 ^\u001b[0m\n\u001b[0;31mSyntaxError\u001b[0m\u001b[0;31m:\u001b[0m invalid syntax\n"
     ]
    }
   ],
   "source": [
    "prueba=pd.read_html(str(table[24]))[0]\n",
    "prueba[0][2]\n",
    "for (j in range(len(prueba))):\n",
    "    if prueba[0][j]==\"Mercados Nacionales:\"\n",
    "\n",
    "prueba[0][2]"
   ]
  },
  {
   "cell_type": "code",
   "execution_count": 85,
   "metadata": {},
   "outputs": [
    {
     "data": {
      "text/plain": [
       "<table border=\"0\" cellpadding=\"0\" cellspacing=\"0\">\n",
       "</table>"
      ]
     },
     "execution_count": 85,
     "metadata": {},
     "output_type": "execute_result"
    }
   ],
   "source": [
    "table[20]"
   ]
  }
 ],
 "metadata": {
  "kernelspec": {
   "display_name": "Python 3",
   "language": "python",
   "name": "python3"
  },
  "language_info": {
   "codemirror_mode": {
    "name": "ipython",
    "version": 3
   },
   "file_extension": ".py",
   "mimetype": "text/x-python",
   "name": "python",
   "nbconvert_exporter": "python",
   "pygments_lexer": "ipython3",
   "version": "3.6.1"
  }
 },
 "nbformat": 4,
 "nbformat_minor": 2
}
